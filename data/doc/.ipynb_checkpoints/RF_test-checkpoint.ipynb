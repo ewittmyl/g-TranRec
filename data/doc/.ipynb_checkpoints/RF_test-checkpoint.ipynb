{
 "cells": [
  {
   "cell_type": "code",
   "execution_count": 9,
   "metadata": {},
   "outputs": [],
   "source": [
    "import pandas as pd\n",
    "import numpy as np\n",
    "import pickle\n",
    "import matplotlib.pyplot as plt"
   ]
  },
  {
   "cell_type": "code",
   "execution_count": 2,
   "metadata": {},
   "outputs": [
    {
     "name": "stderr",
     "output_type": "stream",
     "text": [
      "/Users/ymon0003/opt/anaconda3/envs/astroconda/lib/python3.6/site-packages/sklearn/base.py:306: UserWarning: Trying to unpickle estimator DecisionTreeRegressor from version 0.20.3 when using version 0.21.3. This might lead to breaking code or invalid results. Use at your own risk.\n",
      "  UserWarning)\n",
      "/Users/ymon0003/opt/anaconda3/envs/astroconda/lib/python3.6/site-packages/sklearn/base.py:306: UserWarning: Trying to unpickle estimator RandomForestRegressor from version 0.20.3 when using version 0.21.3. This might lead to breaking code or invalid results. Use at your own risk.\n",
      "  UserWarning)\n"
     ]
    }
   ],
   "source": [
    "test_df = pd.read_csv(\"../DataSets/test_set.csv\")\n",
    "rf = pickle.load(open(\"../Models/RF/rf.m\",\"rb\"))"
   ]
  },
  {
   "cell_type": "code",
   "execution_count": 15,
   "metadata": {},
   "outputs": [],
   "source": [
    "X_col = ['pca1', 'pca2', 'pca3', 'pca4', 'pca5', 'pca6', 'pca7', 'b_image',\n",
    "            'nmask', 'n3sig7', 'gauss_amp', 'gauss_R', 'abs_pv']\n",
    "X = test_df[X_col]\n",
    "y_true = test_df.y\n",
    "y_pred = rf.predict(X)\n",
    "test_df['GTR_score'] = y_pred\n",
    "test_df['pred'] = [int(round(p)) for p in y_pred]"
   ]
  },
  {
   "cell_type": "code",
   "execution_count": 22,
   "metadata": {},
   "outputs": [
    {
     "data": {
      "text/plain": [
       "(0, 1000)"
      ]
     },
     "execution_count": 22,
     "metadata": {},
     "output_type": "execute_result"
    },
    {
     "data": {
      "image/png": "[encoded data removed]",
      "text/plain": [
       "<Figure size 720x576 with 1 Axes>"
      ]
     },
     "metadata": {
      "needs_background": "light"
     },
     "output_type": "display_data"
    }
   ],
   "source": [
    "test_df[test_df.y==0].GTR_score.hist(bins=100, figsize=(10,8), alpha=0.5)\n",
    "test_df[test_df.y==1].GTR_score.hist(bins=100, figsize=(10,8), alpha=0.5)\n",
    "plt.ylim(0,1000)"
   ]
  },
  {
   "cell_type": "code",
   "execution_count": 32,
   "metadata": {},
   "outputs": [
    {
     "name": "stdout",
     "output_type": "stream",
     "text": [
      "[[79323   542]\n",
      " [  683 79452]]\n",
      "TNR: 0.9914631402644801\n",
      "TPR: 0.9932244918368878\n"
     ]
    }
   ],
   "source": [
    "thresh = 0.5\n",
    "PN = np.sum(test_df.y==1)\n",
    "NN = np.sum(test_df.y==0)\n",
    "TPN = np.sum((test_df.y==1) & (test_df.pred==1))\n",
    "TNN = np.sum((test_df.y==0) & (test_df.pred==0))\n",
    "FPN = np.sum((test_df.y==0) & (test_df.pred==1))\n",
    "FNN = np.sum((test_df.y==1) & (test_df.pred==0))\n",
    "cm = np.array([[TNN, FNN],[FPN, TPN]])\n",
    "print(cm)\n",
    "print(\"TNR: {}\".format(TNN/NN))\n",
    "print(\"TPR: {}\".format(TPN/PN))\n"
   ]
  },
  {
   "cell_type": "code",
   "execution_count": null,
   "metadata": {},
   "outputs": [],
   "source": []
  }
 ],
 "metadata": {
  "kernelspec": {
   "display_name": "Python 3",
   "language": "python",
   "name": "python3"
  },
  "language_info": {
   "codemirror_mode": {
    "name": "ipython",
    "version": 3
   },
   "file_extension": ".py",
   "mimetype": "text/x-python",
   "name": "python",
   "nbconvert_exporter": "python",
   "pygments_lexer": "ipython3",
   "version": "3.6.9"
  }
 },
 "nbformat": 4,
 "nbformat_minor": 2
}
